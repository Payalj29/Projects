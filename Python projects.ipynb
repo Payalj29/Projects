{
 "cells": [
  {
   "cell_type": "code",
   "execution_count": 2,
   "id": "1b58b01f-d5f3-4d61-b5db-b3bcd9e58003",
   "metadata": {},
   "outputs": [
    {
     "name": "stdout",
     "output_type": "stream",
     "text": [
      "\n",
      "To-Do list menu:\n",
      "1, Add task\n",
      "2, View task\n",
      "3, Delete task\n",
      "4, Exit\n"
     ]
    },
    {
     "name": "stdin",
     "output_type": "stream",
     "text": [
      "enter Your choice: 4\n"
     ]
    },
    {
     "name": "stdout",
     "output_type": "stream",
     "text": [
      "Thank you\n"
     ]
    }
   ],
   "source": [
    "#### Task 1\n",
    "tasks=[]\n",
    "def input_task():\n",
    "    task=input(\"Enter a task you want do?:\")\n",
    "    tasks.append(task)\n",
    "    print(\"Your task is added to todolist!\")\n",
    "def view_task():\n",
    "    if not tasks:\n",
    "        print(\"No tasks found.\")\n",
    "    else:\n",
    "        print(\"\\nYour Tasks:\")\n",
    "        for i, task in enumerate(tasks,1):\n",
    "            print(f\"{i}. {task}\")\n",
    "def delete_task():\n",
    "    view_task()\n",
    "    try:\n",
    "        task_number=int(input(\"enter task number you want to delete:\"))-1\n",
    "        if 0 <= task_number < len(tasks):\n",
    "            removed_task= tasks.pop(task_number)\n",
    "            print(f\"Your task: {removed_task} is deleted\") \n",
    "        else:\n",
    "            print(\"Invalid task number\")\n",
    "    except ValueError:\n",
    "        print(\"Pleasse enter a valid number.\")\n",
    "while True:\n",
    "    print(\"\\nTo-Do list menu:\")\n",
    "    print(\"1, Add task\")\n",
    "    print(\"2, View task\")\n",
    "    print(\"3, Delete task\")\n",
    "    print(\"4, Exit\")\n",
    "\n",
    "    number=input(\"enter Your choice:\")\n",
    "    if number =='1':\n",
    "        input_task()\n",
    "    elif number== '2':\n",
    "        view_task()\n",
    "    elif number== '3':\n",
    "        delete_task()\n",
    "    elif number=='4':\n",
    "        print(\"Thank you\")\n",
    "        break\n",
    "    else:\n",
    "        print(\"Invalid choice. Try again.\")\n",
    "    \n",
    "            "
   ]
  },
  {
   "cell_type": "code",
   "execution_count": 5,
   "id": "67b36fc5-a3c1-454e-95ee-02b25cc0249f",
   "metadata": {},
   "outputs": [
    {
     "name": "stdout",
     "output_type": "stream",
     "text": [
      "enter 1 to add values 2 to multiply 3 to subtract 4 to divide\n"
     ]
    },
    {
     "name": "stdin",
     "output_type": "stream",
     "text": [
      "enter the choice:: 1\n",
      "Enter the number: 9\n",
      "Enter the number: 9\n"
     ]
    },
    {
     "name": "stdout",
     "output_type": "stream",
     "text": [
      "Result:=18.0\n"
     ]
    }
   ],
   "source": [
    "### Task 2\n",
    "def add(x,y):\n",
    "    x=float(input(\"Enter the number:\"))\n",
    "    y=float(input(\"Enter the number:\"))\n",
    "    return x+y\n",
    "def multiply(x,y):\n",
    "    return x*y\n",
    "def subtract(x,y):\n",
    "    return x-y\n",
    "def division(x,y):\n",
    "    if y==0:\n",
    "        print(\"Denominator must not be zero\")\n",
    "    return x/y\n",
    "\n",
    "print(\"enter 1 to add values\",\"2 to multiply\", \"3 to subtract\", \"4 to divide\")\n",
    "choice=int(input(\"enter the choice::\"))\n",
    "if choice==1:\n",
    "    print(f\"Result:={add(x,y)}\")\n",
    "elif choice==2:\n",
    "    print(f\"Result:={multiply(x,y)}\")\n",
    "elif choice==3:\n",
    "    print(f\"Result:={subtract(x,y)}\")\n",
    "elif choice==4:\n",
    "    print(f\"Result:={divide(x,y)}\")\n",
    "else:\n",
    "    print(\"Invalide number of choice\")\n",
    "    \n",
    "    "
   ]
  },
  {
   "cell_type": "code",
   "execution_count": 6,
   "id": "e37fde79-b01d-43c6-81d1-a9f1aaa8b81d",
   "metadata": {},
   "outputs": [
    {
     "name": "stdout",
     "output_type": "stream",
     "text": [
      "\n",
      "Contact Book\n",
      "1. Add Contact\n",
      "2. View Contacts\n",
      "3. Search Contact\n",
      "4. Delete Contact\n",
      "5. Exit\n"
     ]
    },
    {
     "name": "stdin",
     "output_type": "stream",
     "text": [
      "Enter your choice:  1\n",
      "Enter the mobile no: 989840\n",
      "Enter the name you want to save: lk\n"
     ]
    },
    {
     "name": "stdout",
     "output_type": "stream",
     "text": [
      "Contact sucssesfully added\n",
      "\n",
      "Contact Book\n",
      "1. Add Contact\n",
      "2. View Contacts\n",
      "3. Search Contact\n",
      "4. Delete Contact\n",
      "5. Exit\n"
     ]
    },
    {
     "name": "stdin",
     "output_type": "stream",
     "text": [
      "Enter your choice:  282\n"
     ]
    },
    {
     "name": "stdout",
     "output_type": "stream",
     "text": [
      "Invalid choice! Please try again.\n",
      "\n",
      "Contact Book\n",
      "1. Add Contact\n",
      "2. View Contacts\n",
      "3. Search Contact\n",
      "4. Delete Contact\n",
      "5. Exit\n"
     ]
    },
    {
     "name": "stdin",
     "output_type": "stream",
     "text": [
      "Enter your choice:  oi\n"
     ]
    },
    {
     "name": "stdout",
     "output_type": "stream",
     "text": [
      "Invalid choice! Please try again.\n",
      "\n",
      "Contact Book\n",
      "1. Add Contact\n",
      "2. View Contacts\n",
      "3. Search Contact\n",
      "4. Delete Contact\n",
      "5. Exit\n"
     ]
    },
    {
     "name": "stdin",
     "output_type": "stream",
     "text": [
      "Enter your choice:  1\n",
      "Enter the mobile no: 092\n",
      "Enter the name you want to save: dd\n"
     ]
    },
    {
     "name": "stdout",
     "output_type": "stream",
     "text": [
      "Contact sucssesfully added\n",
      "\n",
      "Contact Book\n",
      "1. Add Contact\n",
      "2. View Contacts\n",
      "3. Search Contact\n",
      "4. Delete Contact\n",
      "5. Exit\n"
     ]
    },
    {
     "name": "stdin",
     "output_type": "stream",
     "text": [
      "Enter your choice:  4\n",
      "enter the name you want to delete or number: 092\n"
     ]
    },
    {
     "name": "stdout",
     "output_type": "stream",
     "text": [
      "contact deleted sucssesfully!\n",
      "\n",
      "Contact Book\n",
      "1. Add Contact\n",
      "2. View Contacts\n",
      "3. Search Contact\n",
      "4. Delete Contact\n",
      "5. Exit\n"
     ]
    },
    {
     "name": "stdin",
     "output_type": "stream",
     "text": [
      "Enter your choice:  2\n"
     ]
    },
    {
     "name": "stdout",
     "output_type": "stream",
     "text": [
      "\n",
      "Contact List:\n",
      "lk: 989840\n",
      "\n",
      "Contact Book\n",
      "1. Add Contact\n",
      "2. View Contacts\n",
      "3. Search Contact\n",
      "4. Delete Contact\n",
      "5. Exit\n"
     ]
    },
    {
     "name": "stdin",
     "output_type": "stream",
     "text": [
      "Enter your choice:  5\n"
     ]
    },
    {
     "name": "stdout",
     "output_type": "stream",
     "text": [
      "Exiting... Goodbye!\n"
     ]
    }
   ],
   "source": [
    "### Task 3\n",
    "contacts={}\n",
    "\n",
    "def add_contact():\n",
    "    number=input(\"Enter the mobile no:\")\n",
    "    name=input(\"Enter the name you want to save:\")\n",
    "    if number in contacts:\n",
    "       print(\"Contact allready exist!\")\n",
    "    else:\n",
    "       contacts[number]=name\n",
    "       print(\"Contact sucssesfully added\")\n",
    "\n",
    "def view_contacts():\n",
    "    if not contacts:\n",
    "        print(\"No contacts added\")\n",
    "    else:\n",
    "         print(\"\\nContact List:\")\n",
    "         for number, name in contacts.items():\n",
    "            print(f\"{name}: {number}\")\n",
    "        \n",
    "def search_contact():\n",
    "    number=input(\"enter the name you want to search for or number:\")\n",
    "    if number in contacts:\n",
    "        print(f\"Contact found: {contacts[number]} - {number}\")\n",
    "    else:\n",
    "        print(\"Contact not found.\")\n",
    "\n",
    "def delete_contact():\n",
    "    number=input(\"enter the name you want to delete or number:\")\n",
    "    if number in contacts:\n",
    "        del contacts[number]\n",
    "        print(\"contact deleted sucssesfully!\")\n",
    "    else:\n",
    "        print(\"contact not found.\")\n",
    "\n",
    "def main():\n",
    "    while True:\n",
    "        print(\"\\nContact Book\")\n",
    "        print(\"1. Add Contact\")\n",
    "        print(\"2. View Contacts\")\n",
    "        print(\"3. Search Contact\")\n",
    "        print(\"4. Delete Contact\")\n",
    "        print(\"5. Exit\")\n",
    "        \n",
    "        choice = input(\"Enter your choice: \")\n",
    "        \n",
    "        if choice == '1':\n",
    "            add_contact()\n",
    "        elif choice == '2':\n",
    "            view_contacts()\n",
    "        elif choice == '3':\n",
    "            search_contact()\n",
    "        elif choice == '4':\n",
    "            delete_contact()\n",
    "        elif choice == '5':\n",
    "            print(\"Exiting... Goodbye!\")\n",
    "            break\n",
    "        else:\n",
    "            print(\"Invalid choice! Please try again.\")\n",
    "\n",
    "if __name__ == \"__main__\":\n",
    "    main()\n",
    "\n"
   ]
  },
  {
   "cell_type": "code",
   "execution_count": null,
   "id": "62e49fc7-be83-4172-b7ac-743f44d9085e",
   "metadata": {},
   "outputs": [],
   "source": []
  }
 ],
 "metadata": {
  "kernelspec": {
   "display_name": "Python 3 (ipykernel)",
   "language": "python",
   "name": "python3"
  },
  "language_info": {
   "codemirror_mode": {
    "name": "ipython",
    "version": 3
   },
   "file_extension": ".py",
   "mimetype": "text/x-python",
   "name": "python",
   "nbconvert_exporter": "python",
   "pygments_lexer": "ipython3",
   "version": "3.12.7"
  }
 },
 "nbformat": 4,
 "nbformat_minor": 5
}

from time import *
import random as r
def mistakes(partest,usertest):
  error=0
  for i in range(len(partest)):
    try:
      if partest[i]!=usertest[i]:
        error=error+1
    except:
      error=error+1
  return error

def speed_time(time_s,time_e,userinput):
  time_delay=time_e-time_s
  time_R=round(time_delay,2)
  speed=len(userinput)/time_R
  return round(speed)

if __name__ == '__main__':
    while True:
      enter=input("Ready for test: yes / no ")
      if enter =="yes":
        test=["A paragraph is self-contained unit of discourse in writting dealing"
        "with a particular point or idea.""My name is payal jagtap","welcome to payal coding"]
        test1=r.choice(test)
        print("*******typing speed*******")
        print(test1)
        print()
        print()
        time_s=time()
        testexam=input("Enter the following lines:")
        time_e=time()
        print("Speed:",speed_time(time_s,time_e,testexam),"w/sec")
        print("Error:",mistakes(test1,testexam))
      elif enter =="no":
        print("Thank you")
        break
      else:
        print("Invalid output")
